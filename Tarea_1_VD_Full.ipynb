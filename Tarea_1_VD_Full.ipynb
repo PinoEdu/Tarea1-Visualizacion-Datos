{
  "nbformat": 4,
  "nbformat_minor": 0,
  "metadata": {
    "colab": {
      "provenance": []
    },
    "kernelspec": {
      "name": "python3",
      "display_name": "Python 3"
    },
    "language_info": {
      "name": "python"
    }
  },
  "cells": [
    {
      "cell_type": "markdown",
      "source": [
        "## Parte 1: Empresas\n",
        "\n",
        "\n",
        "### Eduardo\n",
        "\n"
      ],
      "metadata": {
        "id": "N2B3ZHLirwjF"
      }
    },
    {
      "cell_type": "code",
      "execution_count": null,
      "metadata": {
        "id": "d4AWJejzrqEA"
      },
      "outputs": [],
      "source": [
        "def sign_change(dataset):\n",
        "  for i in range(len(dataset)):\n",
        "    if i != (len(dataset)-1):\n",
        "      if dataset[i] < dataset[i+1]:\n",
        "        continue\n",
        "      elif dataset[i] == dataset[i+1]:\n",
        "        continue\n",
        "      else:\n",
        "        dataset[i+1] *= -1\n",
        "  return dataset"
      ]
    },
    {
      "cell_type": "code",
      "source": [
        "def text_for_chart(name,large):\n",
        "  name = name.split('-')\n",
        "  aux = []\n",
        "  for _ in range(large):\n",
        "    aux.append(name[0])\n",
        "  return aux"
      ],
      "metadata": {
        "id": "EyyMHVZGulVY"
      },
      "execution_count": null,
      "outputs": []
    },
    {
      "cell_type": "code",
      "source": [
        "def dataset_split_historical(nombre):\n",
        "  x = [] ; y = []\n",
        "  with open(nombre,\"r\") as archivo:\n",
        "    flag = True\n",
        "    for linea in archivo:\n",
        "      if flag:\n",
        "        flag = False\n",
        "        continue\n",
        "      x.append(linea.strip().split(',')[0])\n",
        "      y.append(int(linea.strip().split(',')[6]))\n",
        "  y = sign_change(y)\n",
        "  return x, y, text_for_chart(nombre,len(y))"
      ],
      "metadata": {
        "id": "X4T8JzRBkNiK"
      },
      "execution_count": null,
      "outputs": []
    },
    {
      "cell_type": "code",
      "source": [
        "dataset_aapl_x, dataset_aapl_y, text_aapl = dataset_split_historical('AAPL.csv')\n",
        "dataset_amzn_x, dataset_amzn_y, text_amzn = dataset_split_historical('AMZN.csv')"
      ],
      "metadata": {
        "id": "xZH1BmGokPEy"
      },
      "execution_count": null,
      "outputs": []
    },
    {
      "cell_type": "code",
      "source": [
        "import plotly.graph_objects as go\n",
        "\n",
        "fig = go.Figure()\n",
        "\n",
        "fig.add_trace(go.Waterfall(\n",
        "    x = dataset_aapl_x,\n",
        "    y = dataset_aapl_y,\n",
        "    text = text_aapl, textposition = 'inside'\n",
        "))\n",
        "\n",
        "fig.add_trace(go.Waterfall(\n",
        "    x = dataset_amzn_x,\n",
        "    y = dataset_amzn_y,\n",
        "    text = text_amzn, textposition = 'inside'\n",
        "))\n",
        "\n",
        "fig.update_layout(\n",
        "    title = 'Historical prices: Apple & Amazon (01/03/2020 - 01/04/2022)',\n",
        "    waterfallgroupgap = 0.3,\n",
        ")\n",
        "\n",
        "fig.show()"
      ],
      "metadata": {
        "id": "MP1lF43wkQZL"
      },
      "execution_count": null,
      "outputs": []
    }
  ]
}